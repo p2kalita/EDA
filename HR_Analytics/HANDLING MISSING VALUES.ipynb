{
 "cells": [
  {
   "cell_type": "markdown",
   "id": "f80e77c6",
   "metadata": {},
   "source": [
    "![image info](https://ineuron.ai/images/ineuron-logo.png)"
   ]
  },
  {
   "cell_type": "markdown",
   "id": "b0e8bdcf",
   "metadata": {},
   "source": [
    "### Import Data and Required Packages\n",
    "#### Importing Pandas, Numpy, Matplotlib, Seaborn and Warings Library."
   ]
  },
  {
   "cell_type": "code",
   "execution_count": 1,
   "id": "a2f4fdbb",
   "metadata": {},
   "outputs": [],
   "source": [
    "import pandas as pd\n",
    "import numpy as np\n",
    "import matplotlib.pyplot as plt\n",
    "import seaborn as sns\n",
    "import warnings\n",
    "\n",
    "warnings.filterwarnings(\"ignore\")\n",
    "\n",
    "%matplotlib inline"
   ]
  },
  {
   "cell_type": "markdown",
   "id": "85cf6c76",
   "metadata": {},
   "source": [
    "#### Import the CSV Data as Pandas DataFrame"
   ]
  },
  {
   "cell_type": "code",
   "execution_count": 2,
   "id": "0fc05c92",
   "metadata": {},
   "outputs": [],
   "source": [
    "df = pd.read_csv('data/hr_cleaned.csv')"
   ]
  },
  {
   "cell_type": "markdown",
   "id": "88d96420",
   "metadata": {},
   "source": [
    "#### Show Top 5 Records"
   ]
  },
  {
   "cell_type": "code",
   "execution_count": 3,
   "id": "f2b2e84e",
   "metadata": {},
   "outputs": [
    {
     "data": {
      "text/html": [
       "<div>\n",
       "<style scoped>\n",
       "    .dataframe tbody tr th:only-of-type {\n",
       "        vertical-align: middle;\n",
       "    }\n",
       "\n",
       "    .dataframe tbody tr th {\n",
       "        vertical-align: top;\n",
       "    }\n",
       "\n",
       "    .dataframe thead th {\n",
       "        text-align: right;\n",
       "    }\n",
       "</style>\n",
       "<table border=\"1\" class=\"dataframe\">\n",
       "  <thead>\n",
       "    <tr style=\"text-align: right;\">\n",
       "      <th></th>\n",
       "      <th>city</th>\n",
       "      <th>city_development_index</th>\n",
       "      <th>gender</th>\n",
       "      <th>relevent_experience</th>\n",
       "      <th>enrolled_university</th>\n",
       "      <th>education_level</th>\n",
       "      <th>major_discipline</th>\n",
       "      <th>experience</th>\n",
       "      <th>company_size</th>\n",
       "      <th>company_type</th>\n",
       "      <th>last_new_job</th>\n",
       "      <th>training_hours</th>\n",
       "      <th>target</th>\n",
       "    </tr>\n",
       "  </thead>\n",
       "  <tbody>\n",
       "    <tr>\n",
       "      <th>14813</th>\n",
       "      <td>city_16</td>\n",
       "      <td>0.910</td>\n",
       "      <td>Male</td>\n",
       "      <td>Has relevent experience</td>\n",
       "      <td>no_enrollment</td>\n",
       "      <td>Graduate</td>\n",
       "      <td>STEM</td>\n",
       "      <td>21</td>\n",
       "      <td>Large-org.</td>\n",
       "      <td>Pvt Ltd</td>\n",
       "      <td>1</td>\n",
       "      <td>166</td>\n",
       "      <td>0.0</td>\n",
       "    </tr>\n",
       "    <tr>\n",
       "      <th>12693</th>\n",
       "      <td>city_80</td>\n",
       "      <td>0.847</td>\n",
       "      <td>Male</td>\n",
       "      <td>No relevent experience</td>\n",
       "      <td>NaN</td>\n",
       "      <td>NaN</td>\n",
       "      <td>NaN</td>\n",
       "      <td>2</td>\n",
       "      <td>Undefined</td>\n",
       "      <td>NaN</td>\n",
       "      <td>0</td>\n",
       "      <td>162</td>\n",
       "      <td>0.0</td>\n",
       "    </tr>\n",
       "    <tr>\n",
       "      <th>6975</th>\n",
       "      <td>city_16</td>\n",
       "      <td>0.910</td>\n",
       "      <td>Male</td>\n",
       "      <td>Has relevent experience</td>\n",
       "      <td>no_enrollment</td>\n",
       "      <td>Graduate</td>\n",
       "      <td>STEM</td>\n",
       "      <td>21</td>\n",
       "      <td>Small &amp; Medium-org.</td>\n",
       "      <td>Pvt Ltd</td>\n",
       "      <td>4</td>\n",
       "      <td>42</td>\n",
       "      <td>0.0</td>\n",
       "    </tr>\n",
       "    <tr>\n",
       "      <th>6262</th>\n",
       "      <td>city_103</td>\n",
       "      <td>0.920</td>\n",
       "      <td>Male</td>\n",
       "      <td>Has relevent experience</td>\n",
       "      <td>no_enrollment</td>\n",
       "      <td>Masters</td>\n",
       "      <td>Business Degree</td>\n",
       "      <td>21</td>\n",
       "      <td>Small &amp; Medium-org.</td>\n",
       "      <td>Pvt Ltd</td>\n",
       "      <td>1</td>\n",
       "      <td>90</td>\n",
       "      <td>0.0</td>\n",
       "    </tr>\n",
       "    <tr>\n",
       "      <th>8864</th>\n",
       "      <td>city_103</td>\n",
       "      <td>0.920</td>\n",
       "      <td>Male</td>\n",
       "      <td>Has relevent experience</td>\n",
       "      <td>no_enrollment</td>\n",
       "      <td>Graduate</td>\n",
       "      <td>STEM</td>\n",
       "      <td>18</td>\n",
       "      <td>Small &amp; Medium-org.</td>\n",
       "      <td>Pvt Ltd</td>\n",
       "      <td>1</td>\n",
       "      <td>48</td>\n",
       "      <td>0.0</td>\n",
       "    </tr>\n",
       "  </tbody>\n",
       "</table>\n",
       "</div>"
      ],
      "text/plain": [
       "           city  city_development_index gender      relevent_experience  \\\n",
       "14813   city_16                   0.910   Male  Has relevent experience   \n",
       "12693   city_80                   0.847   Male   No relevent experience   \n",
       "6975    city_16                   0.910   Male  Has relevent experience   \n",
       "6262   city_103                   0.920   Male  Has relevent experience   \n",
       "8864   city_103                   0.920   Male  Has relevent experience   \n",
       "\n",
       "      enrolled_university education_level major_discipline  experience  \\\n",
       "14813       no_enrollment        Graduate             STEM          21   \n",
       "12693                 NaN             NaN              NaN           2   \n",
       "6975        no_enrollment        Graduate             STEM          21   \n",
       "6262        no_enrollment         Masters  Business Degree          21   \n",
       "8864        no_enrollment        Graduate             STEM          18   \n",
       "\n",
       "              company_size company_type  last_new_job  training_hours  target  \n",
       "14813           Large-org.      Pvt Ltd             1             166     0.0  \n",
       "12693            Undefined          NaN             0             162     0.0  \n",
       "6975   Small & Medium-org.      Pvt Ltd             4              42     0.0  \n",
       "6262   Small & Medium-org.      Pvt Ltd             1              90     0.0  \n",
       "8864   Small & Medium-org.      Pvt Ltd             1              48     0.0  "
      ]
     },
     "execution_count": 3,
     "metadata": {},
     "output_type": "execute_result"
    }
   ],
   "source": [
    "df.sample(5)"
   ]
  },
  {
   "cell_type": "markdown",
   "id": "d39042d9",
   "metadata": {},
   "source": [
    "### 1. Check for Missing data"
   ]
  },
  {
   "cell_type": "code",
   "execution_count": 4,
   "id": "87c69775",
   "metadata": {},
   "outputs": [
    {
     "data": {
      "text/html": [
       "<div>\n",
       "<style scoped>\n",
       "    .dataframe tbody tr th:only-of-type {\n",
       "        vertical-align: middle;\n",
       "    }\n",
       "\n",
       "    .dataframe tbody tr th {\n",
       "        vertical-align: top;\n",
       "    }\n",
       "\n",
       "    .dataframe thead th {\n",
       "        text-align: right;\n",
       "    }\n",
       "</style>\n",
       "<table border=\"1\" class=\"dataframe\">\n",
       "  <thead>\n",
       "    <tr style=\"text-align: right;\">\n",
       "      <th></th>\n",
       "      <th>Null Values</th>\n",
       "      <th>Percentage Null Values</th>\n",
       "    </tr>\n",
       "  </thead>\n",
       "  <tbody>\n",
       "    <tr>\n",
       "      <th>company_type</th>\n",
       "      <td>6140</td>\n",
       "      <td>32.049274</td>\n",
       "    </tr>\n",
       "    <tr>\n",
       "      <th>gender</th>\n",
       "      <td>4508</td>\n",
       "      <td>23.530640</td>\n",
       "    </tr>\n",
       "    <tr>\n",
       "      <th>major_discipline</th>\n",
       "      <td>2813</td>\n",
       "      <td>14.683161</td>\n",
       "    </tr>\n",
       "    <tr>\n",
       "      <th>education_level</th>\n",
       "      <td>460</td>\n",
       "      <td>2.401086</td>\n",
       "    </tr>\n",
       "    <tr>\n",
       "      <th>enrolled_university</th>\n",
       "      <td>386</td>\n",
       "      <td>2.014824</td>\n",
       "    </tr>\n",
       "    <tr>\n",
       "      <th>city</th>\n",
       "      <td>0</td>\n",
       "      <td>0.000000</td>\n",
       "    </tr>\n",
       "    <tr>\n",
       "      <th>city_development_index</th>\n",
       "      <td>0</td>\n",
       "      <td>0.000000</td>\n",
       "    </tr>\n",
       "    <tr>\n",
       "      <th>relevent_experience</th>\n",
       "      <td>0</td>\n",
       "      <td>0.000000</td>\n",
       "    </tr>\n",
       "    <tr>\n",
       "      <th>experience</th>\n",
       "      <td>0</td>\n",
       "      <td>0.000000</td>\n",
       "    </tr>\n",
       "    <tr>\n",
       "      <th>company_size</th>\n",
       "      <td>0</td>\n",
       "      <td>0.000000</td>\n",
       "    </tr>\n",
       "    <tr>\n",
       "      <th>last_new_job</th>\n",
       "      <td>0</td>\n",
       "      <td>0.000000</td>\n",
       "    </tr>\n",
       "    <tr>\n",
       "      <th>training_hours</th>\n",
       "      <td>0</td>\n",
       "      <td>0.000000</td>\n",
       "    </tr>\n",
       "    <tr>\n",
       "      <th>target</th>\n",
       "      <td>0</td>\n",
       "      <td>0.000000</td>\n",
       "    </tr>\n",
       "  </tbody>\n",
       "</table>\n",
       "</div>"
      ],
      "text/plain": [
       "                        Null Values  Percentage Null Values\n",
       "company_type                   6140               32.049274\n",
       "gender                         4508               23.530640\n",
       "major_discipline               2813               14.683161\n",
       "education_level                 460                2.401086\n",
       "enrolled_university             386                2.014824\n",
       "city                              0                0.000000\n",
       "city_development_index            0                0.000000\n",
       "relevent_experience               0                0.000000\n",
       "experience                        0                0.000000\n",
       "company_size                      0                0.000000\n",
       "last_new_job                      0                0.000000\n",
       "training_hours                    0                0.000000\n",
       "target                            0                0.000000"
      ]
     },
     "execution_count": 4,
     "metadata": {},
     "output_type": "execute_result"
    }
   ],
   "source": [
    "null_df = pd.DataFrame({'Null Values' : df.isna().sum().sort_values(ascending=False), 'Percentage Null Values' : (df.isna().sum().sort_values(ascending=False)) / (df.shape[0]) * (100)})\n",
    "null_df"
   ]
  },
  {
   "cell_type": "code",
   "execution_count": 5,
   "id": "8ec3f0c2",
   "metadata": {},
   "outputs": [],
   "source": [
    "df_copy = df.copy()"
   ]
  },
  {
   "cell_type": "markdown",
   "id": "6b78bf6c",
   "metadata": {},
   "source": [
    "#### Fetch colun names having null values"
   ]
  },
  {
   "cell_type": "code",
   "execution_count": 6,
   "id": "5265b14a",
   "metadata": {},
   "outputs": [
    {
     "data": {
      "text/plain": [
       "['gender',\n",
       " 'enrolled_university',\n",
       " 'education_level',\n",
       " 'major_discipline',\n",
       " 'company_type']"
      ]
     },
     "execution_count": 6,
     "metadata": {},
     "output_type": "execute_result"
    }
   ],
   "source": [
    "cols = [var for var in df_copy.columns if df_copy[var].isnull().mean()*100]\n",
    "cols"
   ]
  },
  {
   "cell_type": "markdown",
   "id": "7b078760",
   "metadata": {},
   "source": [
    "#### Since nan values is really high, We will have o treat it as a seperate category"
   ]
  },
  {
   "cell_type": "code",
   "execution_count": 7,
   "id": "7190ef87",
   "metadata": {},
   "outputs": [
    {
     "data": {
      "text/plain": [
       "Male      13221\n",
       "Female     1238\n",
       "Other       191\n",
       "Name: gender, dtype: int64"
      ]
     },
     "execution_count": 7,
     "metadata": {},
     "output_type": "execute_result"
    }
   ],
   "source": [
    "df['gender'].value_counts()"
   ]
  },
  {
   "cell_type": "markdown",
   "id": "24e680e5",
   "metadata": {},
   "source": [
    "#### 1. Gender"
   ]
  },
  {
   "cell_type": "code",
   "execution_count": 8,
   "id": "aa06e260",
   "metadata": {},
   "outputs": [],
   "source": [
    "df_copy['gender'].loc[df_copy['gender'].isnull()==True]='Undefined'"
   ]
  },
  {
   "cell_type": "code",
   "execution_count": 9,
   "id": "ab9be104",
   "metadata": {},
   "outputs": [
    {
     "data": {
      "text/plain": [
       "Male         13221\n",
       "Undefined     4508\n",
       "Female        1238\n",
       "Other          191\n",
       "Name: gender, dtype: int64"
      ]
     },
     "execution_count": 9,
     "metadata": {},
     "output_type": "execute_result"
    }
   ],
   "source": [
    "df_copy['gender'].value_counts()"
   ]
  },
  {
   "cell_type": "code",
   "execution_count": 10,
   "id": "f0b8faff",
   "metadata": {},
   "outputs": [
    {
     "data": {
      "text/plain": [
       "0"
      ]
     },
     "execution_count": 10,
     "metadata": {},
     "output_type": "execute_result"
    }
   ],
   "source": [
    "df_copy.gender.isna().sum()"
   ]
  },
  {
   "cell_type": "markdown",
   "id": "4f268174",
   "metadata": {},
   "source": [
    "#### 2. enrolled_university"
   ]
  },
  {
   "cell_type": "code",
   "execution_count": 11,
   "id": "a23cf1a9",
   "metadata": {},
   "outputs": [
    {
     "name": "stdout",
     "output_type": "stream",
     "text": [
      "no_enrollment       13817\n",
      "Full time course     3757\n",
      "Part time course     1198\n",
      "Name: enrolled_university, dtype: int64\n",
      "Null Values 386\n"
     ]
    }
   ],
   "source": [
    "print(df_copy.enrolled_university .value_counts())\n",
    "print(\"Null Values\",df_copy.enrolled_university .isna().sum())"
   ]
  },
  {
   "cell_type": "markdown",
   "id": "530315a6",
   "metadata": {},
   "source": [
    "#### Here the nan values are small so we just impute  \"no_enrollment\" as its a majority class"
   ]
  },
  {
   "cell_type": "code",
   "execution_count": 12,
   "id": "36d07edd",
   "metadata": {},
   "outputs": [],
   "source": [
    "df_copy['enrolled_university'].loc[df_copy['enrolled_university'].isnull()==True]='no_enrollment'  "
   ]
  },
  {
   "cell_type": "markdown",
   "id": "6bdb4981",
   "metadata": {},
   "source": [
    "#### 3. Graduate"
   ]
  },
  {
   "cell_type": "code",
   "execution_count": 13,
   "id": "dc7d8f1b",
   "metadata": {},
   "outputs": [
    {
     "name": "stdout",
     "output_type": "stream",
     "text": [
      "Graduate          11598\n",
      "Masters            4361\n",
      "High School        2017\n",
      "Phd                 414\n",
      "Primary School      308\n",
      "Name: education_level, dtype: int64\n",
      "NUll Values  460\n"
     ]
    }
   ],
   "source": [
    "print(df_copy.education_level.value_counts())\n",
    "print(\"NUll Values \",df_copy.education_level.isna().sum())"
   ]
  },
  {
   "cell_type": "markdown",
   "id": "d6347807",
   "metadata": {},
   "source": [
    "#### Here the nan values are small so we just impute  \"Graduate\" as its a majority class"
   ]
  },
  {
   "cell_type": "code",
   "execution_count": 14,
   "id": "5a92eb0c",
   "metadata": {},
   "outputs": [],
   "source": [
    "df_copy['education_level'].loc[df_copy['education_level'].isnull()==True]='Graduate' "
   ]
  },
  {
   "cell_type": "markdown",
   "id": "453f8517",
   "metadata": {},
   "source": [
    "#### 4. major_discipline"
   ]
  },
  {
   "cell_type": "code",
   "execution_count": 15,
   "id": "a1fc3fae",
   "metadata": {},
   "outputs": [
    {
     "name": "stdout",
     "output_type": "stream",
     "text": [
      "STEM               14492\n",
      "Humanities           669\n",
      "Other                381\n",
      "Business Degree      327\n",
      "Arts                 253\n",
      "No Major             223\n",
      "Name: major_discipline, dtype: int64\n",
      "NUll Values  2813\n"
     ]
    }
   ],
   "source": [
    "print(df_copy.major_discipline.value_counts())\n",
    "print(\"NUll Values \",df_copy.major_discipline.isna().sum())"
   ]
  },
  {
   "cell_type": "markdown",
   "id": "fa3f9337",
   "metadata": {},
   "source": [
    "####  impute \"major_discipline\"  with \"STEM\" as its a majority class"
   ]
  },
  {
   "cell_type": "code",
   "execution_count": 16,
   "id": "03df9189",
   "metadata": {},
   "outputs": [],
   "source": [
    "df_copy['major_discipline'].loc[df_copy['major_discipline'].isnull()==True]='STEM'"
   ]
  },
  {
   "cell_type": "markdown",
   "id": "edcc225b",
   "metadata": {},
   "source": [
    "#### 5. company_type"
   ]
  },
  {
   "cell_type": "code",
   "execution_count": 17,
   "id": "d76e5c13",
   "metadata": {},
   "outputs": [
    {
     "name": "stdout",
     "output_type": "stream",
     "text": [
      "Pvt Ltd                9817\n",
      "Funded Startup         1001\n",
      "Public Sector           955\n",
      "Early Stage Startup     603\n",
      "NGO                     521\n",
      "Other                   121\n",
      "Name: company_type, dtype: int64\n",
      "NUll Values  6140\n"
     ]
    }
   ],
   "source": [
    "print(df_copy.company_type.value_counts())\n",
    "print(\"NUll Values \",df_copy.company_type.isna().sum())"
   ]
  },
  {
   "cell_type": "markdown",
   "id": "d7929870",
   "metadata": {},
   "source": [
    "####  impute \"company_type\"  with \"Pvt Ltd\" as its a majority class"
   ]
  },
  {
   "cell_type": "code",
   "execution_count": 18,
   "id": "24d268b7",
   "metadata": {},
   "outputs": [],
   "source": [
    "df_copy['company_type'].loc[df_copy['company_type'].isnull()==True]='Pvt Ltd'"
   ]
  },
  {
   "cell_type": "code",
   "execution_count": 19,
   "id": "768067e5",
   "metadata": {},
   "outputs": [
    {
     "data": {
      "text/html": [
       "<div>\n",
       "<style scoped>\n",
       "    .dataframe tbody tr th:only-of-type {\n",
       "        vertical-align: middle;\n",
       "    }\n",
       "\n",
       "    .dataframe tbody tr th {\n",
       "        vertical-align: top;\n",
       "    }\n",
       "\n",
       "    .dataframe thead th {\n",
       "        text-align: right;\n",
       "    }\n",
       "</style>\n",
       "<table border=\"1\" class=\"dataframe\">\n",
       "  <thead>\n",
       "    <tr style=\"text-align: right;\">\n",
       "      <th></th>\n",
       "      <th>Null Values</th>\n",
       "      <th>Percentage Null Values</th>\n",
       "    </tr>\n",
       "  </thead>\n",
       "  <tbody>\n",
       "    <tr>\n",
       "      <th>city</th>\n",
       "      <td>0</td>\n",
       "      <td>0.0</td>\n",
       "    </tr>\n",
       "    <tr>\n",
       "      <th>city_development_index</th>\n",
       "      <td>0</td>\n",
       "      <td>0.0</td>\n",
       "    </tr>\n",
       "    <tr>\n",
       "      <th>gender</th>\n",
       "      <td>0</td>\n",
       "      <td>0.0</td>\n",
       "    </tr>\n",
       "    <tr>\n",
       "      <th>relevent_experience</th>\n",
       "      <td>0</td>\n",
       "      <td>0.0</td>\n",
       "    </tr>\n",
       "    <tr>\n",
       "      <th>enrolled_university</th>\n",
       "      <td>0</td>\n",
       "      <td>0.0</td>\n",
       "    </tr>\n",
       "    <tr>\n",
       "      <th>education_level</th>\n",
       "      <td>0</td>\n",
       "      <td>0.0</td>\n",
       "    </tr>\n",
       "    <tr>\n",
       "      <th>major_discipline</th>\n",
       "      <td>0</td>\n",
       "      <td>0.0</td>\n",
       "    </tr>\n",
       "    <tr>\n",
       "      <th>experience</th>\n",
       "      <td>0</td>\n",
       "      <td>0.0</td>\n",
       "    </tr>\n",
       "    <tr>\n",
       "      <th>company_size</th>\n",
       "      <td>0</td>\n",
       "      <td>0.0</td>\n",
       "    </tr>\n",
       "    <tr>\n",
       "      <th>company_type</th>\n",
       "      <td>0</td>\n",
       "      <td>0.0</td>\n",
       "    </tr>\n",
       "    <tr>\n",
       "      <th>last_new_job</th>\n",
       "      <td>0</td>\n",
       "      <td>0.0</td>\n",
       "    </tr>\n",
       "    <tr>\n",
       "      <th>training_hours</th>\n",
       "      <td>0</td>\n",
       "      <td>0.0</td>\n",
       "    </tr>\n",
       "    <tr>\n",
       "      <th>target</th>\n",
       "      <td>0</td>\n",
       "      <td>0.0</td>\n",
       "    </tr>\n",
       "  </tbody>\n",
       "</table>\n",
       "</div>"
      ],
      "text/plain": [
       "                        Null Values  Percentage Null Values\n",
       "city                              0                     0.0\n",
       "city_development_index            0                     0.0\n",
       "gender                            0                     0.0\n",
       "relevent_experience               0                     0.0\n",
       "enrolled_university               0                     0.0\n",
       "education_level                   0                     0.0\n",
       "major_discipline                  0                     0.0\n",
       "experience                        0                     0.0\n",
       "company_size                      0                     0.0\n",
       "company_type                      0                     0.0\n",
       "last_new_job                      0                     0.0\n",
       "training_hours                    0                     0.0\n",
       "target                            0                     0.0"
      ]
     },
     "execution_count": 19,
     "metadata": {},
     "output_type": "execute_result"
    }
   ],
   "source": [
    "null_df = pd.DataFrame({'Null Values' : df_copy.isna().sum().sort_values(ascending=False), 'Percentage Null Values' : (df_copy.isna().sum().sort_values(ascending=False)) / (df.shape[0]) * (100)})\n",
    "null_df"
   ]
  },
  {
   "cell_type": "code",
   "execution_count": 22,
   "id": "9569517e",
   "metadata": {},
   "outputs": [],
   "source": [
    "df_copy.to_csv('data/hr_imputed.csv', index= False)"
   ]
  }
 ],
 "metadata": {
  "kernelspec": {
   "display_name": "Python 3 (ipykernel)",
   "language": "python",
   "name": "python3"
  },
  "language_info": {
   "codemirror_mode": {
    "name": "ipython",
    "version": 3
   },
   "file_extension": ".py",
   "mimetype": "text/x-python",
   "name": "python",
   "nbconvert_exporter": "python",
   "pygments_lexer": "ipython3",
   "version": "3.9.12"
  }
 },
 "nbformat": 4,
 "nbformat_minor": 5
}
